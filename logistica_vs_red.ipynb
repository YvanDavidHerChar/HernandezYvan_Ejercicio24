{
  "nbformat": 4,
  "nbformat_minor": 0,
  "metadata": {
    "colab": {
      "name": "logistica_vs_red",
      "provenance": []
    },
    "kernelspec": {
      "name": "python3",
      "display_name": "Python 3"
    }
  },
  "cells": [
    {
      "cell_type": "code",
      "metadata": {
        "id": "lFIydx_4sqq5",
        "colab_type": "code",
        "colab": {
          "base_uri": "https://localhost:8080/",
          "height": 111
        },
        "outputId": "a0049520-3863-44ff-81c3-6296f3d7901e"
      },
      "source": [
        "!git clone https://github.com/YvanDavidHerChar/HernandezYvan_Ejercicio24"
      ],
      "execution_count": 2,
      "outputs": [
        {
          "output_type": "stream",
          "text": [
            "Cloning into 'HernandezYvan_Ejercicio24'...\n",
            "remote: Enumerating objects: 3, done.\u001b[K\n",
            "remote: Counting objects:  33% (1/3)\u001b[K\rremote: Counting objects:  66% (2/3)\u001b[K\rremote: Counting objects: 100% (3/3)\u001b[K\rremote: Counting objects: 100% (3/3), done.\u001b[K\n",
            "remote: Total 3 (delta 0), reused 0 (delta 0), pack-reused 0\u001b[K\n",
            "Unpacking objects:  33% (1/3)   \rUnpacking objects:  66% (2/3)   \rUnpacking objects: 100% (3/3)   \rUnpacking objects: 100% (3/3), done.\n"
          ],
          "name": "stdout"
        }
      ]
    },
    {
      "cell_type": "code",
      "metadata": {
        "id": "0UJbrO-VtGDW",
        "colab_type": "code",
        "colab": {
          "base_uri": "https://localhost:8080/",
          "height": 36
        },
        "outputId": "50b1ced6-2646-4bc2-9a17-be25251e73ea"
      },
      "source": [
        "%ls\n"
      ],
      "execution_count": 4,
      "outputs": [
        {
          "output_type": "stream",
          "text": [
            "\u001b[0m\u001b[01;34mHernandezYvan_Ejercicio24\u001b[0m/  \u001b[01;34msample_data\u001b[0m/\n"
          ],
          "name": "stdout"
        }
      ]
    },
    {
      "cell_type": "code",
      "metadata": {
        "id": "lOrvTEDstIru",
        "colab_type": "code",
        "colab": {
          "base_uri": "https://localhost:8080/",
          "height": 36
        },
        "outputId": "5a01f7bf-c946-4e61-f334-12705484bf97"
      },
      "source": [
        "cd HernandezYvan_Ejercicio24/\n"
      ],
      "execution_count": 5,
      "outputs": [
        {
          "output_type": "stream",
          "text": [
            "/content/HernandezYvan_Ejercicio24\n"
          ],
          "name": "stdout"
        }
      ]
    },
    {
      "cell_type": "code",
      "metadata": {
        "id": "EfqLaUJ4tLCq",
        "colab_type": "code",
        "colab": {
          "base_uri": "https://localhost:8080/",
          "height": 36
        },
        "outputId": "c29ab80b-a818-4603-f9ca-5bb82bbc5923"
      },
      "source": [
        "ls"
      ],
      "execution_count": 6,
      "outputs": [
        {
          "output_type": "stream",
          "text": [
            "README.md  slice_localization_data.csv\n"
          ],
          "name": "stdout"
        }
      ]
    },
    {
      "cell_type": "code",
      "metadata": {
        "id": "TSZZfWuctj6n",
        "colab_type": "code",
        "colab": {}
      },
      "source": [
        "import numpy as np\n",
        "import matplotlib.pyplot as plt\n",
        "import pandas as pd\n",
        "#Importamos todos los modulos de scikit learn\n",
        "from sklearn.linear_model import LogisticRegression\n",
        "import sklearn.neural_network\n",
        "from sklearn.model_selection import train_test_split\n",
        "from sklearn.preprocessing import StandardScaler\n",
        "from sklearn.utils import check_random_state\n",
        "from sklearn.metrics import f1_score"
      ],
      "execution_count": 0,
      "outputs": []
    },
    {
      "cell_type": "markdown",
      "metadata": {
        "id": "noZy1_xMvLtS",
        "colab_type": "text"
      },
      "source": [
        "Carguemos los datos del data set: https://archive.ics.uci.edu/ml/datasets/Relative+location+of+CT+slices+on+axial+axis# \\\\\n",
        "F. Graf, H.-P. Kriegel, M. Schubert, S. Poelsterl, A. Cavallaro (2019). UCI Machine Learning Repository [http://archive.ics.uci.edu/ml]. Ludwig-Maximilians-UniversitÃt Munich  \n"
      ]
    },
    {
      "cell_type": "code",
      "metadata": {
        "id": "CJyW_Q9luO4m",
        "colab_type": "code",
        "colab": {}
      },
      "source": [
        "# Carga datos\n",
        "data = pd.read_csv('slice_localization_data.csv')\n",
        "data.head\n",
        "data = data.dropna()\n"
      ],
      "execution_count": 0,
      "outputs": []
    },
    {
      "cell_type": "markdown",
      "metadata": {
        "id": "H9SrJs_fv07d",
        "colab_type": "text"
      },
      "source": [
        "Organizo los X, son los dos histogramas para cada uno de los cortes de CT (solo tomaremos 4000 por tiempo computacional...), y los Y son la ubicacion correspondiente del corte en el cuerpo. "
      ]
    },
    {
      "cell_type": "code",
      "metadata": {
        "id": "z--OSGq6vsSR",
        "colab_type": "code",
        "colab": {}
      },
      "source": [
        "Y = np.array(data['reference'])\n",
        "Y = np.rint(Y) \n",
        "data= data.drop(['patientId','reference'],axis=1)\n",
        "data = data[:4000]\n",
        "Y = Y[:4000]"
      ],
      "execution_count": 0,
      "outputs": []
    },
    {
      "cell_type": "markdown",
      "metadata": {
        "id": "8LH1L3YuwW0Q",
        "colab_type": "text"
      },
      "source": [
        "Ahora voy a separarlos en train y test"
      ]
    },
    {
      "cell_type": "code",
      "metadata": {
        "id": "41ObtQ9bwQ00",
        "colab_type": "code",
        "colab": {}
      },
      "source": [
        "x_train, x_test, y_train, y_test = train_test_split(data, Y, train_size=0.5)\n",
        "\n",
        "scaler = StandardScaler()\n",
        "X_train = scaler.fit_transform(x_train)\n",
        "X_test = scaler.transform(x_test)\n",
        "train_samples = len(X_train)"
      ],
      "execution_count": 0,
      "outputs": []
    },
    {
      "cell_type": "code",
      "metadata": {
        "id": "GvlRPgwuwTZy",
        "colab_type": "code",
        "colab": {
          "base_uri": "https://localhost:8080/",
          "height": 36
        },
        "outputId": "0a9e3694-d635-4412-ccbd-2c56ea570a2b"
      },
      "source": [
        "print(Y)\n"
      ],
      "execution_count": 11,
      "outputs": [
        {
          "output_type": "stream",
          "text": [
            "[22. 22. 22. ... 83. 78. 78.]\n"
          ],
          "name": "stdout"
        }
      ]
    },
    {
      "cell_type": "code",
      "metadata": {
        "id": "gcxXE9d3xOmM",
        "colab_type": "code",
        "colab": {
          "base_uri": "https://localhost:8080/",
          "height": 391
        },
        "outputId": "e1e4916f-ac2b-43bc-9870-31679513870f"
      },
      "source": [
        "ces = np.logspace(-3,3, 10)\n",
        "f1_l1  = []\n",
        "f1_l2  = []\n",
        "for i in range(len(ces)):\n",
        "    clf1 = LogisticRegression(C=ces[i], penalty='l1', solver='saga', tol=0.1)\n",
        "    clf1.fit(X_train, y_train)\n",
        "    print('Uno')\n",
        "    clf2 = LogisticRegression(C=ces[i], penalty='l2', solver='saga', tol=0.1)\n",
        "    clf2.fit(X_train, y_train)\n",
        "    print('Otro')\n",
        "    f1_l1.append(f1_score(y_test, clf1.predict(X_test), average='macro'))\n",
        "    f1_l2.append(f1_score(y_test, clf2.predict(X_test), average='macro'))"
      ],
      "execution_count": 28,
      "outputs": [
        {
          "output_type": "stream",
          "text": [
            "Uno\n",
            "Otro\n",
            "Uno\n",
            "Otro\n",
            "Uno\n",
            "Otro\n",
            "Uno\n",
            "Otro\n",
            "Uno\n",
            "Otro\n",
            "Uno\n",
            "Otro\n",
            "Uno\n",
            "Otro\n",
            "Uno\n",
            "Otro\n",
            "Uno\n",
            "Otro\n",
            "Uno\n",
            "Otro\n"
          ],
          "name": "stdout"
        }
      ]
    },
    {
      "cell_type": "markdown",
      "metadata": {
        "id": "GQWuzdrR2awA",
        "colab_type": "text"
      },
      "source": [
        "Para apreciar la diferencia de comportamiento se grafican en escala logaritmica."
      ]
    },
    {
      "cell_type": "code",
      "metadata": {
        "id": "IorXei6HzW1q",
        "colab_type": "code",
        "colab": {
          "base_uri": "https://localhost:8080/",
          "height": 318
        },
        "outputId": "87f3d93c-4d4b-4c1f-cf58-c9c41cc54d13"
      },
      "source": [
        "plt.plot(ces,f1_l1, label='Reguralizacion l1')\n",
        "plt.plot(ces,f1_l2, label='Reguralizacion l2')\n",
        "plt.legend()\n",
        "plt.xlabel('C')\n",
        "plt.ylabel('F1 Promedio')\n",
        "plt.xscale(\"log\")\n",
        "plt.xlim([0.001,1000])\n",
        "plt.title('Evolucion del F1 score con C para diferentes regularizaciones')"
      ],
      "execution_count": 29,
      "outputs": [
        {
          "output_type": "execute_result",
          "data": {
            "text/plain": [
              "Text(0.5, 1.0, 'Evolucion del F1 score con C para diferentes regularizaciones')"
            ]
          },
          "metadata": {
            "tags": []
          },
          "execution_count": 29
        },
        {
          "output_type": "display_data",
          "data": {
            "image/png": "[encoded data removed]",
            "text/plain": [
              "<Figure size 432x288 with 1 Axes>"
            ]
          },
          "metadata": {
            "tags": [],
            "needs_background": "light"
          }
        }
      ]
    },
    {
      "cell_type": "code",
      "metadata": {
        "id": "BJSOMfaB3KAc",
        "colab_type": "code",
        "colab": {
          "base_uri": "https://localhost:8080/",
          "height": 36
        },
        "outputId": "1def9b60-4321-462f-b89c-145f07a233fd"
      },
      "source": [
        "print(max(f1_l1))"
      ],
      "execution_count": 30,
      "outputs": [
        {
          "output_type": "stream",
          "text": [
            "0.649371871985772\n"
          ],
          "name": "stdout"
        }
      ]
    },
    {
      "cell_type": "markdown",
      "metadata": {
        "id": "AOJYUEIk2q2v",
        "colab_type": "text"
      },
      "source": [
        "Ahora vamos a realizar el experimento con las redes neuronales para poder comparar el F1 promedio con los obtenidos con la regression logistica. Tomaremos el valor de la RL como 0.65"
      ]
    },
    {
      "cell_type": "markdown",
      "metadata": {
        "id": "B95bfXO73wbo",
        "colab_type": "text"
      },
      "source": [
        "Nuestro primer experimento se hara con una sola capa oculta"
      ]
    },
    {
      "cell_type": "code",
      "metadata": {
        "id": "UV4w5prH2erz",
        "colab_type": "code",
        "colab": {
          "base_uri": "https://localhost:8080/",
          "height": 710
        },
        "outputId": "4d587b9d-c3a4-4e17-abe3-660645309065"
      },
      "source": [
        "#Sabemos que el numero de posibles ubicaciones de los CT son de 0 a 180. Por lo que K=180\n",
        "loss=[]\n",
        "F1_test = []\n",
        "K=180\n",
        "for i in range(K):\n",
        "    n = i+1\n",
        "    mlp = sklearn.neural_network.MLPClassifier(activation='logistic', hidden_layer_sizes=(n,),max_iter=500)\n",
        "    mlp.fit(X_train, y_train)\n",
        "    loss.append(mlp.loss_)\n",
        "    F1_test.append(sklearn.metrics.f1_score(y_test, mlp.predict(X_test), average='macro'))\n",
        "    print('Se completaron %i neuronas'% n)\n"
      ],
      "execution_count": 0,
      "outputs": [
        {
          "output_type": "stream",
          "text": [
            "/usr/local/lib/python3.6/dist-packages/sklearn/neural_network/_multilayer_perceptron.py:571: ConvergenceWarning: Stochastic Optimizer: Maximum iterations (500) reached and the optimization hasn't converged yet.\n",
            "  % self.max_iter, ConvergenceWarning)\n"
          ],
          "name": "stderr"
        },
        {
          "output_type": "stream",
          "text": [
            "Se completaron 1 neuronas\n"
          ],
          "name": "stdout"
        },
        {
          "output_type": "stream",
          "text": [
            "/usr/local/lib/python3.6/dist-packages/sklearn/neural_network/_multilayer_perceptron.py:571: ConvergenceWarning: Stochastic Optimizer: Maximum iterations (500) reached and the optimization hasn't converged yet.\n",
            "  % self.max_iter, ConvergenceWarning)\n"
          ],
          "name": "stderr"
        },
        {
          "output_type": "stream",
          "text": [
            "Se completaron 2 neuronas\n"
          ],
          "name": "stdout"
        },
        {
          "output_type": "stream",
          "text": [
            "/usr/local/lib/python3.6/dist-packages/sklearn/neural_network/_multilayer_perceptron.py:571: ConvergenceWarning: Stochastic Optimizer: Maximum iterations (500) reached and the optimization hasn't converged yet.\n",
            "  % self.max_iter, ConvergenceWarning)\n"
          ],
          "name": "stderr"
        },
        {
          "output_type": "stream",
          "text": [
            "Se completaron 3 neuronas\n"
          ],
          "name": "stdout"
        },
        {
          "output_type": "stream",
          "text": [
            "/usr/local/lib/python3.6/dist-packages/sklearn/neural_network/_multilayer_perceptron.py:571: ConvergenceWarning: Stochastic Optimizer: Maximum iterations (500) reached and the optimization hasn't converged yet.\n",
            "  % self.max_iter, ConvergenceWarning)\n"
          ],
          "name": "stderr"
        },
        {
          "output_type": "stream",
          "text": [
            "Se completaron 4 neuronas\n"
          ],
          "name": "stdout"
        },
        {
          "output_type": "stream",
          "text": [
            "/usr/local/lib/python3.6/dist-packages/sklearn/neural_network/_multilayer_perceptron.py:571: ConvergenceWarning: Stochastic Optimizer: Maximum iterations (500) reached and the optimization hasn't converged yet.\n",
            "  % self.max_iter, ConvergenceWarning)\n"
          ],
          "name": "stderr"
        },
        {
          "output_type": "stream",
          "text": [
            "Se completaron 5 neuronas\n"
          ],
          "name": "stdout"
        },
        {
          "output_type": "stream",
          "text": [
            "/usr/local/lib/python3.6/dist-packages/sklearn/neural_network/_multilayer_perceptron.py:571: ConvergenceWarning: Stochastic Optimizer: Maximum iterations (500) reached and the optimization hasn't converged yet.\n",
            "  % self.max_iter, ConvergenceWarning)\n"
          ],
          "name": "stderr"
        },
        {
          "output_type": "stream",
          "text": [
            "Se completaron 6 neuronas\n"
          ],
          "name": "stdout"
        },
        {
          "output_type": "stream",
          "text": [
            "/usr/local/lib/python3.6/dist-packages/sklearn/neural_network/_multilayer_perceptron.py:571: ConvergenceWarning: Stochastic Optimizer: Maximum iterations (500) reached and the optimization hasn't converged yet.\n",
            "  % self.max_iter, ConvergenceWarning)\n"
          ],
          "name": "stderr"
        },
        {
          "output_type": "stream",
          "text": [
            "Se completaron 7 neuronas\n"
          ],
          "name": "stdout"
        },
        {
          "output_type": "stream",
          "text": [
            "/usr/local/lib/python3.6/dist-packages/sklearn/neural_network/_multilayer_perceptron.py:571: ConvergenceWarning: Stochastic Optimizer: Maximum iterations (500) reached and the optimization hasn't converged yet.\n",
            "  % self.max_iter, ConvergenceWarning)\n"
          ],
          "name": "stderr"
        },
        {
          "output_type": "stream",
          "text": [
            "Se completaron 8 neuronas\n"
          ],
          "name": "stdout"
        },
        {
          "output_type": "stream",
          "text": [
            "/usr/local/lib/python3.6/dist-packages/sklearn/neural_network/_multilayer_perceptron.py:571: ConvergenceWarning: Stochastic Optimizer: Maximum iterations (500) reached and the optimization hasn't converged yet.\n",
            "  % self.max_iter, ConvergenceWarning)\n"
          ],
          "name": "stderr"
        },
        {
          "output_type": "stream",
          "text": [
            "Se completaron 9 neuronas\n"
          ],
          "name": "stdout"
        },
        {
          "output_type": "stream",
          "text": [
            "/usr/local/lib/python3.6/dist-packages/sklearn/neural_network/_multilayer_perceptron.py:571: ConvergenceWarning: Stochastic Optimizer: Maximum iterations (500) reached and the optimization hasn't converged yet.\n",
            "  % self.max_iter, ConvergenceWarning)\n"
          ],
          "name": "stderr"
        },
        {
          "output_type": "stream",
          "text": [
            "Se completaron 10 neuronas\n"
          ],
          "name": "stdout"
        },
        {
          "output_type": "stream",
          "text": [
            "/usr/local/lib/python3.6/dist-packages/sklearn/neural_network/_multilayer_perceptron.py:571: ConvergenceWarning: Stochastic Optimizer: Maximum iterations (500) reached and the optimization hasn't converged yet.\n",
            "  % self.max_iter, ConvergenceWarning)\n"
          ],
          "name": "stderr"
        },
        {
          "output_type": "stream",
          "text": [
            "Se completaron 11 neuronas\n"
          ],
          "name": "stdout"
        },
        {
          "output_type": "stream",
          "text": [
            "/usr/local/lib/python3.6/dist-packages/sklearn/neural_network/_multilayer_perceptron.py:571: ConvergenceWarning: Stochastic Optimizer: Maximum iterations (500) reached and the optimization hasn't converged yet.\n",
            "  % self.max_iter, ConvergenceWarning)\n"
          ],
          "name": "stderr"
        },
        {
          "output_type": "stream",
          "text": [
            "Se completaron 12 neuronas\n"
          ],
          "name": "stdout"
        }
      ]
    },
    {
      "cell_type": "code",
      "metadata": {
        "id": "GmikRhfu4Azb",
        "colab_type": "code",
        "colab": {}
      },
      "source": [
        "#Graficamos la evolucion de la funcion de perdida y de F1\n",
        "x = np.linspace(0,180,K)\n",
        "RL = 0.65\n",
        "plt.figure(figsize=(10,5))\n",
        "\n",
        "plt.subplot(1,2,1)\n",
        "plt.plot(x,loss)\n",
        "plt.title('Evolucion de la funcion de perdida')\n",
        "plt.xlabel('Numero de neuronas')\n",
        "plt.ylabel('Loss_')\n",
        "plt.hline(RL)\n",
        "plt.grid(True)\n",
        "\n",
        "plt.subplot(1,2,2)\n",
        "plt.plot(x,F1_test, label='Test')\n",
        "plt.plot(x,F1_train, label='Train')\n",
        "plt.hline(RL, label = 'RL')\n",
        "plt.grid(True)\n",
        "plt.legend()\n",
        "plt.title('Evolucion de la funcion de F1 sobre el test')\n",
        "plt.xlabel('Numero de neuronas')\n",
        "plt.ylabel('F1')\n",
        "\n",
        "plt.show()"
      ],
      "execution_count": 0,
      "outputs": []
    },
    {
      "cell_type": "code",
      "metadata": {
        "id": "8Cxn2sf36Nn5",
        "colab_type": "code",
        "colab": {}
      },
      "source": [
        "loss_2=[]\n",
        "F1_test_2 = []\n",
        "K=180\n",
        "for i in range(K-2):\n",
        "    n = i+2\n",
        "    mlp = sklearn.neural_network.MLPClassifier(activation='logistic', hidden_layer_sizes=(K/2,n),max_iter=2500)\n",
        "    mlp.fit(X_train, y_train)\n",
        "    loss_2.append(mlp.loss_)\n",
        "    F1_test_2.append(sklearn.metrics.f1_score(y_test, mlp.predict(X_test), average='macro'))\n",
        "    print('Se completaron %i neuronas'% n)"
      ],
      "execution_count": 0,
      "outputs": []
    }
  ]
}